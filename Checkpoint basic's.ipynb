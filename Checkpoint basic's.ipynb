{
 "cells": [
  {
   "cell_type": "code",
   "execution_count": null,
   "id": "c266e279",
   "metadata": {},
   "outputs": [],
   "source": [
    "def factorial(n):\n",
    "    if n == 0:\n",
    "        return 1\n",
    "    else:\n",
    "        return n * factorial(n-1)\n",
    "n=int(input(\"Input a number to compute the factiorial : \"))\n",
    "print(factorial(n))"
   ]
  },
  {
   "cell_type": "code",
   "execution_count": null,
   "id": "b1d98cdb",
   "metadata": {},
   "outputs": [],
   "source": [
    "def odd_values_string(str):\n",
    "  result = \"\" \n",
    "  for i in range(len(str)):\n",
    "    if i % 2 == 0:\n",
    "      result = result + str[i]\n",
    "  return result\n",
    "\n",
    "print(odd_values_string('gamal'))\n",
    "print(odd_values_string('hammody'))"
   ]
  },
  {
   "cell_type": "code",
   "execution_count": null,
   "id": "e4ad2464",
   "metadata": {},
   "outputs": [],
   "source": [
    "firstName = input(\"Enter Your firstname:\")\n",
    "lastName = input(\"Enter Your lastname:\")\n",
    "print(\"Hello \" +firstName[::-1] + \" \" +lastName[::-1])"
   ]
  },
  {
   "cell_type": "code",
   "execution_count": null,
   "id": "e94d5584",
   "metadata": {},
   "outputs": [],
   "source": [
    "nl=[]\n",
    "for x in range(1500, 2701):\n",
    "    if (x%7==0) and (x%5==0):\n",
    "        nl.append(str(x))\n",
    "print (','.join(nl))"
   ]
  },
  {
   "cell_type": "code",
   "execution_count": null,
   "id": "ddc42c55",
   "metadata": {},
   "outputs": [],
   "source": [
    "# input sale amount\n",
    "amt = int(input(\"Enter Sale Amount: \"))\n",
    "\n",
    "# checking conditions and calculating discount\n",
    "if(amt>0):\n",
    "    if amt<=200:\n",
    "       disc = amt*0.10\n",
    "    elif amt>=200:\n",
    "        disc=amt*0.30\n",
    "    elif amt<=500:\n",
    "        disc=0.30 * amt\n",
    "    else:\n",
    "         disc=0.50 * amt\n",
    "\n",
    "    print(\"Discount : \",disc)\n",
    "    print(\"Net Pay  : \",amt-disc)\n",
    "else:\n",
    "    print(\"Invalid Amount\")"
   ]
  },
  {
   "cell_type": "code",
   "execution_count": null,
   "id": "8ad73ebb",
   "metadata": {},
   "outputs": [],
   "source": [
    "a = int(input(\"Input an integer : \"))\n",
    "n1 = int( \"%s\" % a )\n",
    "n2 = int( \"%s%s\" % (a,a) )\n",
    "n3 = int( \"%s%s%s\" % (a,a,a) )\n",
    "print (n1+n2+n3)\n"
   ]
  },
  {
   "cell_type": "code",
   "execution_count": null,
   "id": "8af6334f",
   "metadata": {},
   "outputs": [],
   "source": [
    "num = int(input(\"Enter a number: \"))\n",
    "mod = num % 2\n",
    "if mod > 0:\n",
    "    print(\"This is an odd number.\")\n",
    "else:\n",
    "    print(\"This is an even number.\")"
   ]
  }
 ],
 "metadata": {
  "kernelspec": {
   "display_name": "Python 3 (ipykernel)",
   "language": "python",
   "name": "python3"
  },
  "language_info": {
   "codemirror_mode": {
    "name": "ipython",
    "version": 3
   },
   "file_extension": ".py",
   "mimetype": "text/x-python",
   "name": "python",
   "nbconvert_exporter": "python",
   "pygments_lexer": "ipython3",
   "version": "3.9.7"
  }
 },
 "nbformat": 4,
 "nbformat_minor": 5
}
