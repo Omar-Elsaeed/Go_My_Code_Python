{
  "nbformat": 4,
  "nbformat_minor": 0,
  "metadata": {
    "colab": {
      "name": "flamesGame.ipynb",
      "provenance": []
    },
    "kernelspec": {
      "name": "python3",
      "display_name": "Python 3"
    },
    "language_info": {
      "name": "python"
    }
  },
  "cells": [
    {
      "cell_type": "code",
      "execution_count": 2,
      "metadata": {
        "colab": {
          "base_uri": "https://localhost:8080/"
        },
        "id": "BuQF_64EZRb6",
        "outputId": "00ad3e79-d4a4-4fa0-ab60-f35bf1539d51"
      },
      "outputs": [
        {
          "output_type": "stream",
          "name": "stdout",
          "text": [
            "Player 1 name : omar\n",
            "Player 2 name : ebrahim\n",
            "Relationship status : Friends\n"
          ]
        }
      ],
      "source": [
        "def remove_match_char(list1, list2):\n",
        " \n",
        "    for i in range(len(list1)) :\n",
        "        for j in range(len(list2)) :\n",
        "            if list1[i] == list2[j] :\n",
        "                c = list1[i]\n",
        "                list1.remove(c)\n",
        "                list2.remove(c)\n",
        "                list3 = list1 + [\"*\"] + list2\n",
        "                return [list3, True]\n",
        "    list3 = list1 + [\"*\"] + list2\n",
        "    return [list3, False]\n",
        " \n",
        "if __name__ == \"__main__\" :\n",
        "    p1 = input(\"Player 1 name : \")\n",
        "    p1 = p1.lower()\n",
        "    p1.replace(\" \", \"\")\n",
        "    p1_list = list(p1)\n",
        "    p2 = input(\"Player 2 name : \")\n",
        "    p2 = p2.lower()\n",
        "    p2.replace(\" \", \"\")\n",
        "    p2_list = list(p2)\n",
        "    proceed = True\n",
        "\n",
        "    while proceed :\n",
        "        ret_list = remove_match_char(p1_list, p2_list)\n",
        "        con_list = ret_list[0]\n",
        "        proceed = ret_list[1]\n",
        "        star_index = con_list.index(\"*\")         \n",
        "        p1_list = con_list[ : star_index]\n",
        "        p2_list = con_list[star_index + 1 : ]\n",
        "        count = len(p1_list) + len(p2_list)\n",
        "    result = [\"Friends\", \"Love\", \"Affection\", \"Marriage\", \"Enemy\", \"Siblings\"]\n",
        " \n",
        "    while len(result) > 1 :\n",
        " \n",
        "        split_index = (count % len(result) - 1)\n",
        "        if split_index >= 0 :\n",
        "            right = result[split_index + 1 : ]\n",
        "            left = result[ : split_index]\n",
        "            result = right + left\n",
        " \n",
        "        else :\n",
        "            result = result[ : len(result) - 1]\n",
        " \n",
        "print(\"Relationship status :\", result[0])"
      ]
    }
  ]
}