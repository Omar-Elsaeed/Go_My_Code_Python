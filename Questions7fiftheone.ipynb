#!/usr/bin/env python
# coding: utf-8

# In[17]:



 amt = int(input("Enter Sale Amount: "))

# checking conditions and calculating discount
if(amt>0):
    if amt<=500:
       disc = amt*0.50
    elif amt<=200:
        disc=amt*0.10
    elif amt>=200 and amt<=500:
        disc=amt*0.30
    print("Discount : ",disc)
    print("Net Pay  : ",amt-disc)
else:
    print("Invalid Amount")


# In[ ]:




