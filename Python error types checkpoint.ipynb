{
 "cells": [
  {
   "cell_type": "code",
   "execution_count": null,
   "id": "c7236e89",
   "metadata": {},
   "outputs": [],
   "source": [
    "#Question 1\n",
    "mylist=[14, \"hello\", 967]\n",
    "mylist[2]"
   ]
  },
  {
   "cell_type": "code",
   "execution_count": null,
   "id": "3d6734db",
   "metadata": {},
   "outputs": [],
   "source": [
    "#Question 2\n",
    "print(\"python errors\")"
   ]
  },
  {
   "cell_type": "code",
   "execution_count": null,
   "id": "118277cb",
   "metadata": {},
   "outputs": [],
   "source": [
    "#Question 3\n",
    "mydictionnary={True:\"hello\",False:\"bye\", '3':\"python\"}\n",
    "mydictionnary[True]"
   ]
  },
  {
   "cell_type": "code",
   "execution_count": null,
   "id": "ff23031e",
   "metadata": {},
   "outputs": [],
   "source": [
    "#Question 4\n",
    "i=14\n",
    "while i<78:\n",
    "     print(i)\n",
    "i+=1"
   ]
  },
  {
   "cell_type": "code",
   "execution_count": null,
   "id": "ea74080d",
   "metadata": {},
   "outputs": [],
   "source": [
    "#Question 5\n",
    "it=iter([1,2,3])\n",
    "next(it)\n",
    "next(it)\n",
    "next(it)\n",
    "#next(it)"
   ]
  },
  {
   "cell_type": "code",
   "execution_count": null,
   "id": "e0a00a4f",
   "metadata": {},
   "outputs": [],
   "source": [
    "#Question 6\n",
    "int('15')+15"
   ]
  },
  {
   "cell_type": "code",
   "execution_count": null,
   "id": "c0a2dda7",
   "metadata": {},
   "outputs": [],
   "source": [
    "#Question 7\n",
    "int('3435')"
   ]
  },
  {
   "cell_type": "code",
   "execution_count": null,
   "id": "fdbfb921",
   "metadata": {},
   "outputs": [],
   "source": [
    "#Question 8\n",
    "python = 'python'"
   ]
  },
  {
   "cell_type": "code",
   "execution_count": null,
   "id": "a295022d",
   "metadata": {},
   "outputs": [],
   "source": [
    "#last Question\n",
    "#x=19/0\n",
    "x=19/1"
   ]
  }
 ],
 "metadata": {
  "kernelspec": {
   "display_name": "Python 3 (ipykernel)",
   "language": "python",
   "name": "python3"
  },
  "language_info": {
   "codemirror_mode": {
    "name": "ipython",
    "version": 3
   },
   "file_extension": ".py",
   "mimetype": "text/x-python",
   "name": "python",
   "nbconvert_exporter": "python",
   "pygments_lexer": "ipython3",
   "version": "3.9.7"
  }
 },
 "nbformat": 4,
 "nbformat_minor": 5
}
