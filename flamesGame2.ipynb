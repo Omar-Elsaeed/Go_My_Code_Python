{
  "nbformat": 4,
  "nbformat_minor": 0,
  "metadata": {
    "colab": {
      "name": "flamesGame2.ipynb",
      "provenance": []
    },
    "kernelspec": {
      "name": "python3",
      "display_name": "Python 3"
    },
    "language_info": {
      "name": "python"
    }
  },
  "cells": [
    {
      "cell_type": "code",
      "source": [
        "name1 = 'Ramzy' \n",
        "name2 = 'mohanad'\n",
        "name1list = list(name1.upper())\n",
        "name2list = list(name2.upper())\n",
        "\n",
        "for l in name1list:\n",
        "  print('Cheking ',l)\n",
        "  if l in name2list:\n",
        "    print('Found ',l)\n",
        "    idx = name1list.index(l)\n",
        "    name1list[idx] = '_'\n",
        "    idx = name2list.index(l)\n",
        "    name2list[idx] = '_'\n",
        "    print('Replaced ',l)\n",
        "  print(name1list)\n",
        "  print(name2list)\n",
        "\n",
        "\n",
        "\n",
        "names = name1list + name2list\n",
        "count = 0\n",
        "for l in names:\n",
        "  if (l!= '_' and l!= ' '):\n",
        "    count += 1\n",
        "print(count)\n",
        "\n",
        "f = list('FLAMES')\n",
        "index = 0\n",
        "\n",
        "while len(f) > 1:\n",
        "      for i in range (count):\n",
        "        index += 1\n",
        "        if index > len(f):\n",
        "          index = 1\n",
        "      f.remove(f[index-1])\n",
        "      index -= 1    \n",
        "print(f)\n"
      ],
      "metadata": {
        "colab": {
          "base_uri": "https://localhost:8080/"
        },
        "id": "UV5y9h8NfnZH",
        "outputId": "0610406f-3d2f-4d3a-f1f7-4cfdab78af55"
      },
      "execution_count": 21,
      "outputs": [
        {
          "output_type": "stream",
          "name": "stdout",
          "text": [
            "Cheking  R\n",
            "['R', 'A', 'M', 'Z', 'Y']\n",
            "['M', 'O', 'H', 'A', 'N', 'A', 'D']\n",
            "Cheking  A\n",
            "Found  A\n",
            "Replaced  A\n",
            "['R', '_', 'M', 'Z', 'Y']\n",
            "['M', 'O', 'H', '_', 'N', 'A', 'D']\n",
            "Cheking  M\n",
            "Found  M\n",
            "Replaced  M\n",
            "['R', '_', '_', 'Z', 'Y']\n",
            "['_', 'O', 'H', '_', 'N', 'A', 'D']\n",
            "Cheking  Z\n",
            "['R', '_', '_', 'Z', 'Y']\n",
            "['_', 'O', 'H', '_', 'N', 'A', 'D']\n",
            "Cheking  Y\n",
            "['R', '_', '_', 'Z', 'Y']\n",
            "['_', 'O', 'H', '_', 'N', 'A', 'D']\n",
            "8\n",
            "['A']\n"
          ]
        }
      ]
    }
  ]
}