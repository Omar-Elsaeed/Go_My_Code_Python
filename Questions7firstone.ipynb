{
 "cells": [
  {
   "cell_type": "code",
   "execution_count": 14,
   "id": "2870e655",
   "metadata": {},
   "outputs": [
    {
     "name": "stdout",
     "output_type": "stream",
     "text": [
      "Enter Your firstname:omar\n",
      "Enter Your lastname:ali\n",
      "Hello ramo ila\n"
     ]
    }
   ],
   "source": [
    "firstName = input(\"Enter Your firstname:\")\n",
    "lastName = input(\"Enter Your lastname:\")\n",
    "print(\"Hello \" +firstName[::-1] + \" \" +lastName[::-1])"
   ]
  },
  {
   "cell_type": "code",
   "execution_count": null,
   "id": "c3d034ae",
   "metadata": {},
   "outputs": [],
   "source": []
  }
 ],
 "metadata": {
  "kernelspec": {
   "display_name": "Python 3 (ipykernel)",
   "language": "python",
   "name": "python3"
  },
  "language_info": {
   "codemirror_mode": {
    "name": "ipython",
    "version": 3
   },
   "file_extension": ".py",
   "mimetype": "text/x-python",
   "name": "python",
   "nbconvert_exporter": "python",
   "pygments_lexer": "ipython3",
   "version": "3.9.7"
  }
 },
 "nbformat": 4,
 "nbformat_minor": 5
}
