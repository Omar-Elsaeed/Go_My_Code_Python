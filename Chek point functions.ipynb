{
 "cells": [
  {
   "cell_type": "code",
   "execution_count": null,
   "id": "25a5762c",
   "metadata": {},
   "outputs": [],
   "source": [
    "def max_num(a,b,c):\n",
    "    return(a+b+c)\n",
    "print(max_num())"
   ]
  },
  {
   "cell_type": "code",
   "execution_count": 3,
   "id": "fb0d841b",
   "metadata": {},
   "outputs": [
    {
     "name": "stdout",
     "output_type": "stream",
     "text": [
      "6\n"
     ]
    }
   ],
   "source": [
    "def max_of_two( x, y ):\n",
    "    if x > y:\n",
    "        return x\n",
    "    return y\n",
    "def max_of_three( x, y, z ):\n",
    "    return max_of_two( x, max_of_two( y, z ) )\n",
    "print(max_of_three(3, 6, -5))"
   ]
  },
  {
   "cell_type": "code",
   "execution_count": 6,
   "id": "7f816865",
   "metadata": {},
   "outputs": [
    {
     "name": "stdout",
     "output_type": "stream",
     "text": [
      "35\n"
     ]
    }
   ],
   "source": [
    "def max_two_num(a,b):\n",
    "    if a > b:\n",
    "        return a\n",
    "    return b\n",
    "def max_three_num( a, b, c ):\n",
    "    return max_two_num(a, max_two_num(b,c))\n",
    "print(max_three_num(20, 35, 19))"
   ]
  },
  {
   "cell_type": "code",
   "execution_count": 7,
   "id": "d3fb510d",
   "metadata": {},
   "outputs": [
    {
     "data": {
      "text/plain": [
       "(32, 12)"
      ]
     },
     "execution_count": 7,
     "metadata": {},
     "output_type": "execute_result"
    }
   ],
   "source": [
    "def func(num1, num2):\n",
    "    sum_ = num1+num2\n",
    "    sub_ = num1-num2\n",
    "    return sum_, sub_\n",
    "\n",
    "func(22,10)"
   ]
  },
  {
   "cell_type": "code",
   "execution_count": 8,
   "id": "3a98819b",
   "metadata": {},
   "outputs": [
    {
     "data": {
      "text/plain": [
       "(50, 30)"
      ]
     },
     "execution_count": 8,
     "metadata": {},
     "output_type": "execute_result"
    }
   ],
   "source": [
    "def func_conc(num1, num2):\n",
    "    sum_ = num1+num2\n",
    "    sub_ = num1-num2\n",
    "    return sum_, sub_\n",
    "func_conc(40,10)"
   ]
  },
  {
   "cell_type": "code",
   "execution_count": 115,
   "id": "daa9d4e8",
   "metadata": {},
   "outputs": [
    {
     "name": "stdout",
     "output_type": "stream",
     "text": [
      "450\n",
      "362880000000000\n",
      "[10, 30, 50, 70, 90]\n",
      "250\n",
      "[20, 40, 60, 80]\n",
      "3840000\n"
     ]
    }
   ],
   "source": [
    "def listsum(list1):\n",
    "    x = 0\n",
    "    for i in list1:\n",
    "        x = x+i\n",
    "    return x\n",
    "list1 = [10,20,30,40,50,60,70,80,90]\n",
    "print(listsum(list1))\n",
    "\n",
    "def multiplyList(list1) :\n",
    "    result = 1\n",
    "    for x in list1:\n",
    "         result = result * x\n",
    "    return result\n",
    "print(multiplyList(list1))\n",
    "l1=[]\n",
    "l2=[]\n",
    "\n",
    "for i in range(len(list1)):\n",
    "    a = 0 \n",
    "    if i%2==0:\n",
    "        l1.append(list1[i])\n",
    "    else:\n",
    "         l2.append(list1[i])\n",
    "        \n",
    "print(l1)\n",
    "print(listsum(l1)) \n",
    "print(l2)\n",
    "print(multiplyList(l2))"
   ]
  },
  {
   "cell_type": "code",
   "execution_count": 116,
   "id": "8a67c221",
   "metadata": {},
   "outputs": [
    {
     "name": "stdout",
     "output_type": "stream",
     "text": [
      "green-red-yellow-black-white\n",
      "black-green-red-white-yellow\n"
     ]
    }
   ],
   "source": [
    "items=[n for n in input().split('-')]\n",
    "items.sort()\n",
    "print('-'.join(items))"
   ]
  },
  {
   "cell_type": "code",
   "execution_count": 27,
   "id": "2c1021a8",
   "metadata": {},
   "outputs": [
    {
     "name": "stdout",
     "output_type": "stream",
     "text": [
      "red-white-black-\n",
      "-black-red-white\n"
     ]
    }
   ],
   "source": [
    "items=[n for n in input().split('-')]\n",
    "items.sort()\n",
    "print('-'.join(items))"
   ]
  },
  {
   "cell_type": "code",
   "execution_count": 28,
   "id": "a8239ac1",
   "metadata": {},
   "outputs": [
    {
     "name": "stdout",
     "output_type": "stream",
     "text": [
      "Provide D: 100 ,150 ,180\n",
      "[18, 22, 24]\n"
     ]
    }
   ],
   "source": [
    "import math\n",
    "\n",
    "numbers = input(\"Provide D: \")\n",
    "numbers = numbers.split(',')\n",
    "\n",
    "result_list = []\n",
    "for D in numbers:\n",
    "    Q = round(math.sqrt(2 * 50 * int(D) / 30))\n",
    "    result_list.append(Q)\n",
    "\n",
    "print(result_list)"
   ]
  },
  {
   "cell_type": "code",
   "execution_count": 33,
   "id": "1d46f188",
   "metadata": {},
   "outputs": [
    {
     "name": "stdout",
     "output_type": "stream",
     "text": [
      "provide D: 200 ,250 ,280\n",
      "[26, 29, 31]\n"
     ]
    }
   ],
   "source": [
    "import math\n",
    "numbers = input(\"provide D: \")\n",
    "numbers = numbers.split(',')\n",
    "result_list = []\n",
    "for D in numbers:\n",
    "    Q = round(math.sqrt(2 * 50* int(D) / 30))\n",
    "    result_list.append(Q)\n",
    "    \n",
    "print(result_list)    "
   ]
  }
 ],
 "metadata": {
  "kernelspec": {
   "display_name": "Python 3 (ipykernel)",
   "language": "python",
   "name": "python3"
  },
  "language_info": {
   "codemirror_mode": {
    "name": "ipython",
    "version": 3
   },
   "file_extension": ".py",
   "mimetype": "text/x-python",
   "name": "python",
   "nbconvert_exporter": "python",
   "pygments_lexer": "ipython3",
   "version": "3.9.7"
  }
 },
 "nbformat": 4,
 "nbformat_minor": 5
}
